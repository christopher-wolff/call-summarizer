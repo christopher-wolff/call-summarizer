{
 "cells": [
  {
   "cell_type": "markdown",
   "id": "9e9c72f3",
   "metadata": {},
   "source": [
    "# Playground\n",
    "\n",
    "A notebook for developing the sales call analysis tool."
   ]
  },
  {
   "cell_type": "markdown",
   "id": "6afffd68",
   "metadata": {},
   "source": [
    "## Imports"
   ]
  },
  {
   "cell_type": "code",
   "execution_count": null,
   "id": "eeb46da4",
   "metadata": {},
   "outputs": [],
   "source": [
    "import openai"
   ]
  },
  {
   "cell_type": "code",
   "execution_count": null,
   "id": "2e4ea540",
   "metadata": {},
   "outputs": [],
   "source": []
  }
 ],
 "metadata": {
  "kernelspec": {
   "display_name": ".venv",
   "language": "python",
   "name": "python3"
  },
  "language_info": {
   "name": "python",
   "version": "3.13.7"
  }
 },
 "nbformat": 4,
 "nbformat_minor": 5
}
